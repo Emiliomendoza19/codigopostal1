{
 "cells": [
  {
   "cell_type": "code",
   "execution_count": 4,
   "metadata": {},
   "outputs": [
    {
     "data": {
      "text/plain": [
       "False"
      ]
     },
     "execution_count": 4,
     "metadata": {},
     "output_type": "execute_result"
    }
   ],
   "source": [
    "1>3\n"
   ]
  },
  {
   "cell_type": "code",
   "execution_count": 7,
   "metadata": {},
   "outputs": [
    {
     "data": {
      "text/plain": [
       "True"
      ]
     },
     "execution_count": 7,
     "metadata": {},
     "output_type": "execute_result"
    }
   ],
   "source": [
    "3==3"
   ]
  },
  {
   "cell_type": "code",
   "execution_count": 8,
   "metadata": {},
   "outputs": [
    {
     "data": {
      "text/plain": [
       "False"
      ]
     },
     "execution_count": 8,
     "metadata": {},
     "output_type": "execute_result"
    }
   ],
   "source": [
    "4<3"
   ]
  },
  {
   "cell_type": "code",
   "execution_count": 35,
   "metadata": {},
   "outputs": [
    {
     "name": "stdout",
     "output_type": "stream",
     "text": [
      "hoy es tu cumpleaños\n"
     ]
    }
   ],
   "source": [
    "e = input(\"¿que fecha es hoy?\")\n",
    "m = input(\"en que fecha naciste?\")\n",
    "if e == m:\n",
    "    print((\"hoy es tu cumpleaños\"))\n",
    "elif m > e:\n",
    "    print((\"no es hoy tu cumpleaños\"))\n"
   ]
  },
  {
   "cell_type": "code",
   "execution_count": 59,
   "metadata": {},
   "outputs": [
    {
     "name": "stdout",
     "output_type": "stream",
     "text": [
      "la suma es 10\n",
      "la multiplicacion es: 10\n"
     ]
    }
   ],
   "source": [
    "numero1=int(input(\"dime el primer numero\"))\n",
    "numero2=int(input(\"dime el segundo numero\"))\n",
    "resultadosuma = numero1 + 5\n",
    "resultadomultiplicacion = numero2 * 5\n",
    "print(\"la suma es\", resultadosuma)\n",
    "print(\"la multiplicacion es:\", resultadomultiplicacion)"
   ]
  },
  {
   "cell_type": "code",
   "execution_count": 116,
   "metadata": {},
   "outputs": [
    {
     "name": "stdout",
     "output_type": "stream",
     "text": [
      "coloca tu numero postal\n",
      "esta dentro de tu rango de entrega\n"
     ]
    }
   ],
   "source": [
    "print(\"coloca tu numero postal\")\n",
    "termino = input()\n",
    "if int(termino) >50030:|\n",
    "    print((\"esta dentro de tu rango de entrega\"))\n",
    "elif int(termino)>=50030:\n",
    "    print((\" no esta dentro del rango de entrega😪\"))\n",
    "    "
   ]
  },
  {
   "cell_type": "code",
   "execution_count": 118,
   "metadata": {},
   "outputs": [
    {
     "name": "stdout",
     "output_type": "stream",
     "text": [
      "no entrego productos en tu mugroso pueblo😪\n"
     ]
    }
   ],
   "source": [
    "e = int(input(\"coloca tu num postal\"))\n",
    "if int(e) >=50000:\n",
    "    print(\"si esta dentro del rango de entrega y se te enviaran tus productos\")\n",
    "elif int(e) >=50030:\n",
    "    print(\"esta dentro del rango de entrega y se te enviaran tus productos\")\n",
    "elif int(e):\n",
    "    print(\"no entrego productos en tu mugroso pueblo😪\")\n",
    "    "
   ]
  }
 ],
 "metadata": {
  "kernelspec": {
   "display_name": "Python 3",
   "language": "python",
   "name": "python3"
  },
  "language_info": {
   "codemirror_mode": {
    "name": "ipython",
    "version": 3
   },
   "file_extension": ".py",
   "mimetype": "text/x-python",
   "name": "python",
   "nbconvert_exporter": "python",
   "pygments_lexer": "ipython3",
   "version": "3.11.3"
  }
 },
 "nbformat": 4,
 "nbformat_minor": 2
}
